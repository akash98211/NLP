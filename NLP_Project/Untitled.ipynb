{
 "cells": [
  {
   "cell_type": "code",
   "execution_count": 6,
   "id": "marine-folder",
   "metadata": {},
   "outputs": [],
   "source": [
    "import PyPDF2\n",
    " \n",
    "#create file object variable\n",
    "#opening method will be rb\n",
    "pdffileobj=open('97_134_bank_statement21.pdf','rb')\n",
    " \n",
    "#create reader variable that will read the pdffileobj\n",
    "pdfreader=PyPDF2.PdfFileReader(pdffileobj)\n",
    " \n",
    "#This will store the number of pages of this pdf file\n",
    "x=pdfreader.numPages\n",
    " \n",
    "#create a variable that will select the selected number of pages\n",
    "pageobj=pdfreader.getPage(0)\n",
    " \n",
    "#(x+1) because python indentation starts with 0.\n",
    "#create text variable which will store all text datafrom pdf file\n",
    "text=pageobj.extractText()\n",
    "\n",
    "file1=open(r\"97_134_bank_statement21.txt\",\"a\")\n",
    "file1.writelines(text)"
   ]
  },
  {
   "cell_type": "code",
   "execution_count": 10,
   "id": "joined-electron",
   "metadata": {},
   "outputs": [
    {
     "ename": "ModuleNotFoundError",
     "evalue": "No module named 'pdftotext'",
     "output_type": "error",
     "traceback": [
      "\u001b[1;31m---------------------------------------------------------------------------\u001b[0m",
      "\u001b[1;31mModuleNotFoundError\u001b[0m                       Traceback (most recent call last)",
      "\u001b[1;32m<ipython-input-10-3b378db92b2e>\u001b[0m in \u001b[0;36m<module>\u001b[1;34m\u001b[0m\n\u001b[1;32m----> 1\u001b[1;33m \u001b[1;32mimport\u001b[0m \u001b[0mpdftotext\u001b[0m\u001b[1;33m\u001b[0m\u001b[1;33m\u001b[0m\u001b[0m\n\u001b[0m\u001b[0;32m      2\u001b[0m \u001b[1;33m\u001b[0m\u001b[0m\n\u001b[0;32m      3\u001b[0m \u001b[1;32mwith\u001b[0m \u001b[0mopen\u001b[0m\u001b[1;33m(\u001b[0m\u001b[1;34m\"97_134_bank_statement21.pdf\"\u001b[0m\u001b[1;33m,\u001b[0m \u001b[1;34m\"rb\"\u001b[0m\u001b[1;33m)\u001b[0m \u001b[1;32mas\u001b[0m \u001b[0mf\u001b[0m\u001b[1;33m:\u001b[0m\u001b[1;33m\u001b[0m\u001b[1;33m\u001b[0m\u001b[0m\n\u001b[0;32m      4\u001b[0m     \u001b[0mpdf\u001b[0m \u001b[1;33m=\u001b[0m \u001b[0mpdftotext\u001b[0m\u001b[1;33m.\u001b[0m\u001b[0mPDF\u001b[0m\u001b[1;33m(\u001b[0m\u001b[0mf\u001b[0m\u001b[1;33m)\u001b[0m\u001b[1;33m\u001b[0m\u001b[1;33m\u001b[0m\u001b[0m\n\u001b[0;32m      5\u001b[0m \u001b[1;33m\u001b[0m\u001b[0m\n",
      "\u001b[1;31mModuleNotFoundError\u001b[0m: No module named 'pdftotext'"
     ]
    }
   ],
   "source": [
    "import pdftotext\n",
    "\n",
    "with open(\"97_134_bank_statement21.pdf\", \"rb\") as f:\n",
    "    pdf = pdftotext.PDF(f)\n",
    "\n",
    "# Iterate over all the pages\n",
    "for page in pdf:\n",
    "    print(page)\n",
    "\n",
    "# Just read the second page\n",
    "print(pdf.read(2))\n",
    "\n",
    "# Or read all the text at once\n",
    "print(pdf.read_all())"
   ]
  },
  {
   "cell_type": "code",
   "execution_count": null,
   "id": "disabled-france",
   "metadata": {},
   "outputs": [],
   "source": [
    "https://www.pyimagesearch.com/2017/02/20/text-skew-correction-opencv-python/"
   ]
  },
  {
   "cell_type": "code",
   "execution_count": 9,
   "id": "constitutional-sleeve",
   "metadata": {},
   "outputs": [
    {
     "name": "stdout",
     "output_type": "stream",
     "text": [
      "Collecting pdftotextNote: you may need to restart the kernel to use updated packages.\n"
     ]
    },
    {
     "name": "stderr",
     "output_type": "stream",
     "text": [
      "    ERROR: Command errored out with exit status 1:\n",
      "     command: 'c:\\users\\rahul\\appdata\\local\\programs\\python\\python38\\python.exe' -u -c 'import sys, setuptools, tokenize; sys.argv[0] = '\"'\"'C:\\\\Users\\\\rahul\\\\AppData\\\\Local\\\\Temp\\\\pip-install-knjm72jx\\\\pdftotext\\\\setup.py'\"'\"'; __file__='\"'\"'C:\\\\Users\\\\rahul\\\\AppData\\\\Local\\\\Temp\\\\pip-install-knjm72jx\\\\pdftotext\\\\setup.py'\"'\"';f=getattr(tokenize, '\"'\"'open'\"'\"', open)(__file__);code=f.read().replace('\"'\"'\\r\\n'\"'\"', '\"'\"'\\n'\"'\"');f.close();exec(compile(code, __file__, '\"'\"'exec'\"'\"'))' install --record 'C:\\Users\\rahul\\AppData\\Local\\Temp\\pip-record-obw8slhv\\install-record.txt' --single-version-externally-managed --compile --install-headers 'c:\\users\\rahul\\appdata\\local\\programs\\python\\python38\\Include\\pdftotext'\n",
      "         cwd: C:\\Users\\rahul\\AppData\\Local\\Temp\\pip-install-knjm72jx\\pdftotext\\\n",
      "    Complete output (11 lines):\n",
      "    WARNING: pkg-config not found--guessing at poppler version.\n",
      "             If the build fails, install pkg-config and try again.\n",
      "    WARNING: pkg-config not found--guessing at poppler version.\n",
      "             If the build fails, install pkg-config and try again.\n",
      "    WARNING: pkg-config not found--guessing at poppler version.\n",
      "             If the build fails, install pkg-config and try again.\n",
      "    running install\n",
      "    running build\n",
      "    running build_ext\n",
      "    building 'pdftotext' extension\n",
      "    error: Microsoft Visual C++ 14.0 is required. Get it with \"Build Tools for Visual Studio\": https://visualstudio.microsoft.com/downloads/\n",
      "    ----------------------------------------\n",
      "ERROR: Command errored out with exit status 1: 'c:\\users\\rahul\\appdata\\local\\programs\\python\\python38\\python.exe' -u -c 'import sys, setuptools, tokenize; sys.argv[0] = '\"'\"'C:\\\\Users\\\\rahul\\\\AppData\\\\Local\\\\Temp\\\\pip-install-knjm72jx\\\\pdftotext\\\\setup.py'\"'\"'; __file__='\"'\"'C:\\\\Users\\\\rahul\\\\AppData\\\\Local\\\\Temp\\\\pip-install-knjm72jx\\\\pdftotext\\\\setup.py'\"'\"';f=getattr(tokenize, '\"'\"'open'\"'\"', open)(__file__);code=f.read().replace('\"'\"'\\r\\n'\"'\"', '\"'\"'\\n'\"'\"');f.close();exec(compile(code, __file__, '\"'\"'exec'\"'\"'))' install --record 'C:\\Users\\rahul\\AppData\\Local\\Temp\\pip-record-obw8slhv\\install-record.txt' --single-version-externally-managed --compile --install-headers 'c:\\users\\rahul\\appdata\\local\\programs\\python\\python38\\Include\\pdftotext' Check the logs for full command output.\n",
      "WARNING: You are using pip version 20.2.3; however, version 21.3.1 is available.\n",
      "You should consider upgrading via the 'c:\\users\\rahul\\appdata\\local\\programs\\python\\python38\\python.exe -m pip install --upgrade pip' command.\n"
     ]
    },
    {
     "name": "stdout",
     "output_type": "stream",
     "text": [
      "\n",
      "  Downloading pdftotext-2.2.2.tar.gz (113 kB)\n",
      "Using legacy 'setup.py install' for pdftotext, since package 'wheel' is not installed.\n",
      "Installing collected packages: pdftotext\n",
      "    Running setup.py install for pdftotext: started\n",
      "    Running setup.py install for pdftotext: finished with status 'error'\n"
     ]
    }
   ],
   "source": [
    "pip install pdftotext"
   ]
  }
 ],
 "metadata": {
  "kernelspec": {
   "display_name": "Python 3",
   "language": "python",
   "name": "python3"
  },
  "language_info": {
   "codemirror_mode": {
    "name": "ipython",
    "version": 3
   },
   "file_extension": ".py",
   "mimetype": "text/x-python",
   "name": "python",
   "nbconvert_exporter": "python",
   "pygments_lexer": "ipython3",
   "version": "3.8.8"
  }
 },
 "nbformat": 4,
 "nbformat_minor": 5
}
