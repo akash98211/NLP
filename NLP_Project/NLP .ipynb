{
 "cells": [
  {
   "cell_type": "markdown",
   "id": "communist-shepherd",
   "metadata": {},
   "source": [
    "# Prepocessing"
   ]
  },
  {
   "cell_type": "code",
   "execution_count": null,
   "id": "contained-crossing",
   "metadata": {},
   "outputs": [],
   "source": [
    "1. Stopwords removal\n",
    "2. Punctuations\n",
    "3. lower case\n",
    "4. tokanization\n",
    "5. stemming\n",
    "6. lemmatization(pos)\n",
    "7. Dynamic Language Modelling (Unigram, bigram, trigram)"
   ]
  },
  {
   "cell_type": "markdown",
   "id": "educational-participant",
   "metadata": {},
   "source": [
    "# Text to Numerical data"
   ]
  },
  {
   "cell_type": "code",
   "execution_count": null,
   "id": "excited-round",
   "metadata": {},
   "outputs": [],
   "source": [
    "1. Bag of words >> CountVectorizer\n",
    "2. TF-IDF Vector"
   ]
  },
  {
   "cell_type": "markdown",
   "id": "talented-nursery",
   "metadata": {},
   "source": [
    "# Model Training"
   ]
  },
  {
   "cell_type": "code",
   "execution_count": null,
   "id": "marked-opinion",
   "metadata": {},
   "outputs": [],
   "source": [
    "1. Naive Bayes Classifier:\n",
    "    1. Gaussian\n",
    "    2. Bernoulli\n",
    "    3. Multinomial\n",
    "    \n"
   ]
  }
 ],
 "metadata": {
  "kernelspec": {
   "display_name": "Python 3",
   "language": "python",
   "name": "python3"
  },
  "language_info": {
   "codemirror_mode": {
    "name": "ipython",
    "version": 3
   },
   "file_extension": ".py",
   "mimetype": "text/x-python",
   "name": "python",
   "nbconvert_exporter": "python",
   "pygments_lexer": "ipython3",
   "version": "3.8.8"
  }
 },
 "nbformat": 4,
 "nbformat_minor": 5
}
