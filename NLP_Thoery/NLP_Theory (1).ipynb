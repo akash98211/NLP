{
 "cells": [
  {
   "cell_type": "markdown",
   "id": "fb0874c6",
   "metadata": {},
   "source": [
    "#   <font color = darkblue size =6.5><center> NLP : Natural Language Processing"
   ]
  },
  {
   "cell_type": "markdown",
   "id": "d1302bfb",
   "metadata": {},
   "source": [
    "##  Popular Application Of NLP "
   ]
  },
  {
   "cell_type": "markdown",
   "id": "e4a6c126",
   "metadata": {},
   "source": [
    "<font color = darkblue size =4>1. Sentiment Analysis \n",
    " ___\n",
    "<font color = darkblue size =4>2. Topic Identification\n",
    " ___\n",
    "<font color = darkblue size =4>3. Named Entity Recognition \n",
    " ___\n",
    "<font color = darkblue size =4>4. Translation\n",
    " ___\n",
    "<font color = darkblue size =4>5. Chatbots \n",
    " ___\n",
    "<font color = darkblue size =4>6. Voice Assistant \n",
    " ___\n",
    "<font color = darkblue size =4>7. Text Generation "
   ]
  },
  {
   "cell_type": "markdown",
   "id": "58a6b146",
   "metadata": {},
   "source": [
    "## Libraries for working in NLP"
   ]
  },
  {
   "cell_type": "markdown",
   "id": "d9e9b537",
   "metadata": {},
   "source": [
    "<font color = darkblue size =3>1.1. NLTK - Natural Language Tool Kit\n",
    "___\n",
    "<font color = darkblue size =3>1.2. polyglot \n",
    "___\n",
    "<font color = darkblue size =3>1.3. Gensim \n",
    "___\n",
    "<font color = darkblue size =3>1.4. Spacy \n",
    "___\n",
    "<font color = darkblue size =3>1.5. Rasa "
   ]
  },
  {
   "cell_type": "markdown",
   "id": "e8afc7da",
   "metadata": {},
   "source": [
    "## Text Preprocessing Techniques "
   ]
  },
  {
   "cell_type": "markdown",
   "id": "3b140a5d",
   "metadata": {},
   "source": [
    "<font color = darkblue size =3>1.1.Removing punctuations \n",
    "___\n",
    "<font color = darkblue size =3>1.2. Lowercase\n",
    "___\n",
    "<font color = darkblue size =3>1.3. Stopwords\n",
    "___\n",
    "<font color = darkblue size =3>1.4. Lemmatization \n",
    "___\n",
    "<font color = darkblue size =3>1.5. Stemming"
   ]
  },
  {
   "cell_type": "markdown",
   "id": "2d836b1c",
   "metadata": {},
   "source": [
    "  "
   ]
  },
  {
   "cell_type": "markdown",
   "id": "2376cf56",
   "metadata": {},
   "source": [
    "  "
   ]
  },
  {
   "cell_type": "markdown",
   "id": "72ece429",
   "metadata": {},
   "source": [
    "  "
   ]
  },
  {
   "cell_type": "markdown",
   "id": "267808a3",
   "metadata": {},
   "source": [
    "  "
   ]
  },
  {
   "cell_type": "markdown",
   "id": "5b51f63d",
   "metadata": {},
   "source": [
    "  "
   ]
  },
  {
   "cell_type": "markdown",
   "id": "7495bcd9",
   "metadata": {},
   "source": [
    "# Popular ways to convert Text to numbers for NLP \n"
   ]
  },
  {
   "cell_type": "markdown",
   "id": "66950afc",
   "metadata": {},
   "source": [
    "<font color = darkblue size =3>1. CountVectorizer\n",
    "___\n",
    "<font color = darkblue size =3>2. TF-IDF Vectorizer\n",
    "___\n",
    "<font color = darkblue size =3>3. Word Embeddings\n",
    "___\n",
    "<font color = darkblue size =3>4. Word2vec "
   ]
  },
  {
   "cell_type": "markdown",
   "id": "2b77cda9",
   "metadata": {},
   "source": [
    "## Count_Vectorizer \n"
   ]
  },
  {
   "cell_type": "markdown",
   "id": "b7feadca",
   "metadata": {},
   "source": [
    "sentence1 = 'I am learning NLP'\n",
    "sentence2 = 'Python and Machine learning are important for learning NLP abc'\n",
    "sentence3 = 'Data Science is combination of AI and Machine learning '\n",
    "\n",
    "            I   am   learning   NLP   Python   and   are   Machine   important   for   Data   Science   is   combination  AI oov\n",
    "\n",
    "    \n",
    "sentence1   1   1     1           1    0       0       0      0        0           0     0        0       0       0        0  +1\n",
    "sentence2   0   0     2           1    1       1       1      1        1           1     0        0       0       0        0  +1\n",
    "\n",
    "    `"
   ]
  },
  {
   "cell_type": "markdown",
   "id": "b9277b51",
   "metadata": {},
   "source": [
    "   "
   ]
  },
  {
   "cell_type": "markdown",
   "id": "f1ddf257",
   "metadata": {},
   "source": [
    "   "
   ]
  },
  {
   "cell_type": "markdown",
   "id": "7b79e647",
   "metadata": {},
   "source": [
    "   "
   ]
  },
  {
   "cell_type": "markdown",
   "id": "d70f2e09",
   "metadata": {},
   "source": [
    "## TF-IDF_Vectorizer"
   ]
  },
  {
   "cell_type": "markdown",
   "id": "b7aa3095",
   "metadata": {},
   "source": [
    "### TF - Term Frequency \n",
    "It's function of frequency of term t appearing in documnet d ;denoted as tf(t,d)\n"
   ]
  },
  {
   "cell_type": "markdown",
   "id": "42b87b73",
   "metadata": {},
   "source": [
    "            Frequncy of t appearing in documnet d\n",
    "tf(t,d)  = ---------------------------------------       \n",
    "            Total Number of terms in  documnet d "
   ]
  },
  {
   "cell_type": "markdown",
   "id": "4f28f38b",
   "metadata": {},
   "source": [
    "### IDF - Inverse Documents Frequency \n",
    "It's Inverse of frequency of Documents containing the desired term out of all the documents and normalized using log"
   ]
  },
  {
   "cell_type": "markdown",
   "id": "261b92e6",
   "metadata": {},
   "source": [
    "                        Number of documents d containing term t\n",
    "Document Frequency  = ---------------------------------------       \n",
    "                        Total Number of documents N\n",
    "idf(t,D) = log(1/Document Frequency)"
   ]
  },
  {
   "cell_type": "markdown",
   "id": "b40940ae",
   "metadata": {},
   "source": [
    "## TF-IDF = TF * IDF "
   ]
  },
  {
   "cell_type": "markdown",
   "id": "48d3aa6a",
   "metadata": {},
   "source": [
    "tf(t,d) * idf(t,D)"
   ]
  },
  {
   "cell_type": "code",
   "execution_count": null,
   "id": "57e7cb3c",
   "metadata": {},
   "outputs": [],
   "source": [
    "                        Acting.... directing....fabulous....good...great...stunts....zenith...movie---simply\n",
    "* The movie was great,   0          0             0           0     \n",
    "  simply great                                                                               1/6*log(3/2)\n",
    "    \n",
    "* Acting directing \n",
    "  screenplay none of\n",
    "  them were good\n",
    "\n",
    "* Movie was fabulous."
   ]
  },
  {
   "cell_type": "markdown",
   "id": "09282ac6",
   "metadata": {},
   "source": [
    "  "
   ]
  },
  {
   "cell_type": "markdown",
   "id": "f171e8ef",
   "metadata": {},
   "source": [
    "  "
   ]
  },
  {
   "cell_type": "markdown",
   "id": "86befb6a",
   "metadata": {},
   "source": [
    "  "
   ]
  },
  {
   "cell_type": "markdown",
   "id": "f28cce51",
   "metadata": {},
   "source": [
    "  "
   ]
  },
  {
   "cell_type": "markdown",
   "id": "6cd6e91b",
   "metadata": {},
   "source": [
    "# <font color = darkblue size =5> Drawbacks of Count Vectorizer and TFIDF Vectorizer"
   ]
  },
  {
   "cell_type": "markdown",
   "id": "eebff590",
   "metadata": {},
   "source": [
    "# <font color = darkblue size =3> * we have large number of dimensions (as many as the vocabulary size)\n",
    "# <font color = darkblue size =3> * The sequence of words in a sentence is not represented"
   ]
  },
  {
   "cell_type": "markdown",
   "id": "ae7fc216",
   "metadata": {},
   "source": [
    "  "
   ]
  },
  {
   "cell_type": "markdown",
   "id": "2ae8a576",
   "metadata": {},
   "source": [
    "  "
   ]
  },
  {
   "cell_type": "markdown",
   "id": "0350081b",
   "metadata": {},
   "source": [
    "  "
   ]
  },
  {
   "cell_type": "markdown",
   "id": "32ce2fd1",
   "metadata": {},
   "source": [
    "  "
   ]
  },
  {
   "cell_type": "markdown",
   "id": "0111db19",
   "metadata": {},
   "source": [
    "  "
   ]
  },
  {
   "cell_type": "markdown",
   "id": "a217c974",
   "metadata": {},
   "source": [
    "  "
   ]
  },
  {
   "cell_type": "markdown",
   "id": "22290bb4",
   "metadata": {},
   "source": [
    "  "
   ]
  },
  {
   "cell_type": "markdown",
   "id": "2c4fe742",
   "metadata": {},
   "source": [
    "  "
   ]
  },
  {
   "cell_type": "markdown",
   "id": "8d996896",
   "metadata": {},
   "source": [
    "# <font color = darkblue size =5> Popular Pretrained Embeddings "
   ]
  },
  {
   "cell_type": "markdown",
   "id": "b46e4e3d",
   "metadata": {},
   "source": [
    "<font color = darkblue size =3>1.word2vec : https://code.google.com/archive/p/word2vec/\n",
    "___\n",
    "<font color = darkblue size =3>2.Glove  : https://nlp.stanford.edu/projects/glove/\n",
    "___\n",
    "<font color = darkblue size =3>3.Fasttext : https://fasttext.cc//"
   ]
  },
  {
   "cell_type": "markdown",
   "id": "379fd57e",
   "metadata": {},
   "source": [
    "# <font color = darkblue size =4> What is word Embedding?"
   ]
  },
  {
   "cell_type": "markdown",
   "id": "210b0304",
   "metadata": {},
   "source": [
    "                                   WORDS\n",
    "Attributes             King     Queen       Apple       Man      Woman\n",
    "\n",
    "Gender                 -0.99     0.98       0.001      -0.99      0.98\n",
    "\n",
    "Taste                  0.001    -0.001      0.97        0.002     0.001\n",
    "\n",
    "Royal                  0.98      0.99       0.001       0.001     0.002"
   ]
  },
  {
   "cell_type": "code",
   "execution_count": null,
   "id": "ae3d1f3d",
   "metadata": {},
   "outputs": [],
   "source": [
    "king-Queen + Man  = Woman\n",
    "(-0.99+0+0.98)-(0.98+0+0.99)+(-0.99+0+0) = (0.98,0.01,0.01)"
   ]
  },
  {
   "cell_type": "markdown",
   "id": "1ec8ea6d",
   "metadata": {},
   "source": [
    "# <font color = darkblue size =4> Word2Vec"
   ]
  },
  {
   "cell_type": "markdown",
   "id": "287b9d00",
   "metadata": {},
   "source": [
    "* Developed By Tomas Mikolov\n",
    "* Uses either COntinous Bag Of Words(CBow) or Skip-gram approach\n",
    "* word2vec accessed through gensim or spacy"
   ]
  },
  {
   "cell_type": "markdown",
   "id": "9dd6a247",
   "metadata": {},
   "source": [
    "# <font color = darkblue size =3> CBow"
   ]
  },
  {
   "cell_type": "code",
   "execution_count": null,
   "id": "d10a5175",
   "metadata": {},
   "outputs": [],
   "source": [
    "\"Models Aims to predict the present target word based on the surrounding word\"\n",
    "\n",
    "example : Apples are ___ and sweet\n",
    "    \n",
    "    Input                       projection                     output\n",
    "    \n",
    "    Apples                      --------------\n",
    "                                -                              Round\n",
    "    are                         -\n",
    "                  \n",
    "    and\n",
    "    \n",
    "    sweet"
   ]
  }
 ],
 "metadata": {
  "kernelspec": {
   "display_name": "Python 3 (ipykernel)",
   "language": "python",
   "name": "python3"
  },
  "language_info": {
   "codemirror_mode": {
    "name": "ipython",
    "version": 3
   },
   "file_extension": ".py",
   "mimetype": "text/x-python",
   "name": "python",
   "nbconvert_exporter": "python",
   "pygments_lexer": "ipython3",
   "version": "3.9.7"
  }
 },
 "nbformat": 4,
 "nbformat_minor": 5
}
