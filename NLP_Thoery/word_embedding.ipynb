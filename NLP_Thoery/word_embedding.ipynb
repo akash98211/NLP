{
 "cells": [
  {
   "cell_type": "markdown",
   "id": "851fd706",
   "metadata": {},
   "source": [
    "#   <font color = darkblue size =6.5><center> Word Embedding\n",
    "___"
   ]
  },
  {
   "cell_type": "markdown",
   "id": "3f2165ba",
   "metadata": {},
   "source": [
    "#   <font color = darkblue size =5> * Creating our own word2vec with our dataset"
   ]
  },
  {
   "cell_type": "code",
   "execution_count": 66,
   "id": "a9a15310",
   "metadata": {},
   "outputs": [],
   "source": [
    "import pandas as pd\n",
    "import numpy as np\n",
    "import matplotlib.pyplot as plt\n",
    "from nltk.corpus import stopwords\n",
    "from nltk.tokenize import word_tokenize\n",
    "from nltk.stem import WordNetLemmatizer\n",
    "import gensim\n",
    "from gensim.models import word2vec"
   ]
  },
  {
   "cell_type": "code",
   "execution_count": 67,
   "id": "236dad1b",
   "metadata": {},
   "outputs": [],
   "source": [
    "data= pd.read_csv(r'C:\\Users\\DELL\\Documents\\NLP\\Train.csv')"
   ]
  },
  {
   "cell_type": "code",
   "execution_count": 68,
   "id": "bdc342ac",
   "metadata": {},
   "outputs": [
    {
     "data": {
      "text/html": [
       "<div>\n",
       "<style scoped>\n",
       "    .dataframe tbody tr th:only-of-type {\n",
       "        vertical-align: middle;\n",
       "    }\n",
       "\n",
       "    .dataframe tbody tr th {\n",
       "        vertical-align: top;\n",
       "    }\n",
       "\n",
       "    .dataframe thead th {\n",
       "        text-align: right;\n",
       "    }\n",
       "</style>\n",
       "<table border=\"1\" class=\"dataframe\">\n",
       "  <thead>\n",
       "    <tr style=\"text-align: right;\">\n",
       "      <th></th>\n",
       "      <th>text</th>\n",
       "      <th>label</th>\n",
       "    </tr>\n",
       "  </thead>\n",
       "  <tbody>\n",
       "    <tr>\n",
       "      <th>0</th>\n",
       "      <td>I grew up (b. 1965) watching and loving the Th...</td>\n",
       "      <td>0</td>\n",
       "    </tr>\n",
       "    <tr>\n",
       "      <th>1</th>\n",
       "      <td>When I put this movie in my DVD player, and sa...</td>\n",
       "      <td>0</td>\n",
       "    </tr>\n",
       "    <tr>\n",
       "      <th>2</th>\n",
       "      <td>Why do people who do not know what a particula...</td>\n",
       "      <td>0</td>\n",
       "    </tr>\n",
       "    <tr>\n",
       "      <th>3</th>\n",
       "      <td>Even though I have great interest in Biblical ...</td>\n",
       "      <td>0</td>\n",
       "    </tr>\n",
       "    <tr>\n",
       "      <th>4</th>\n",
       "      <td>Im a die hard Dads Army fan and nothing will e...</td>\n",
       "      <td>1</td>\n",
       "    </tr>\n",
       "  </tbody>\n",
       "</table>\n",
       "</div>"
      ],
      "text/plain": [
       "                                                text  label\n",
       "0  I grew up (b. 1965) watching and loving the Th...      0\n",
       "1  When I put this movie in my DVD player, and sa...      0\n",
       "2  Why do people who do not know what a particula...      0\n",
       "3  Even though I have great interest in Biblical ...      0\n",
       "4  Im a die hard Dads Army fan and nothing will e...      1"
      ]
     },
     "execution_count": 68,
     "metadata": {},
     "output_type": "execute_result"
    }
   ],
   "source": [
    "data.head()"
   ]
  },
  {
   "cell_type": "code",
   "execution_count": 69,
   "id": "d98b4843",
   "metadata": {},
   "outputs": [],
   "source": [
    "processed_text = data.text.apply(gensim.utils.simple_preprocess)"
   ]
  },
  {
   "cell_type": "code",
   "execution_count": 70,
   "id": "4da42dfc",
   "metadata": {},
   "outputs": [
    {
     "data": {
      "text/plain": [
       "0        [grew, up, watching, and, loving, the, thunder...\n",
       "1        [when, put, this, movie, in, my, dvd, player, ...\n",
       "2        [why, do, people, who, do, not, know, what, pa...\n",
       "3        [even, though, have, great, interest, in, bibl...\n",
       "4        [im, die, hard, dads, army, fan, and, nothing,...\n",
       "                               ...                        \n",
       "39995    [western, union, is, something, of, forgotten,...\n",
       "39996    [this, movie, is, an, incredible, piece, of, w...\n",
       "39997    [my, wife, and, watched, this, movie, because,...\n",
       "39998    [when, first, watched, flatliners, was, amazed...\n",
       "39999    [why, would, this, film, be, so, good, but, on...\n",
       "Name: text, Length: 40000, dtype: object"
      ]
     },
     "execution_count": 70,
     "metadata": {},
     "output_type": "execute_result"
    }
   ],
   "source": [
    "processed_text"
   ]
  },
  {
   "cell_type": "code",
   "execution_count": 71,
   "id": "5008ea32",
   "metadata": {},
   "outputs": [],
   "source": [
    "model = gensim.models.Word2Vec(window=10,min_count=2,workers =4)"
   ]
  },
  {
   "cell_type": "code",
   "execution_count": 72,
   "id": "d04bec2d",
   "metadata": {},
   "outputs": [],
   "source": [
    "model.build_vocab(processed_text)"
   ]
  },
  {
   "cell_type": "code",
   "execution_count": 73,
   "id": "d38f85e4",
   "metadata": {},
   "outputs": [
    {
     "data": {
      "text/plain": [
       "40000"
      ]
     },
     "execution_count": 73,
     "metadata": {},
     "output_type": "execute_result"
    }
   ],
   "source": [
    "model.corpus_count"
   ]
  },
  {
   "cell_type": "code",
   "execution_count": 74,
   "id": "06ccbedc",
   "metadata": {},
   "outputs": [
    {
     "data": {
      "text/plain": [
       "(13589930, 17894894)"
      ]
     },
     "execution_count": 74,
     "metadata": {},
     "output_type": "execute_result"
    }
   ],
   "source": [
    "model.train(processed_text,total_examples=model.corpus_count,epochs=2)"
   ]
  },
  {
   "cell_type": "code",
   "execution_count": 75,
   "id": "ea39b950",
   "metadata": {},
   "outputs": [],
   "source": [
    "model.save('movie-review.model')"
   ]
  },
  {
   "cell_type": "code",
   "execution_count": 13,
   "id": "d6b0dab7",
   "metadata": {},
   "outputs": [
    {
     "data": {
      "text/plain": [
       "[('awful', 0.7524937987327576),\n",
       " ('terrible', 0.7419204711914062),\n",
       " ('horrible', 0.7285290956497192),\n",
       " ('good', 0.7107210159301758),\n",
       " ('poor', 0.7010295987129211),\n",
       " ('lame', 0.6866412162780762),\n",
       " ('stupid', 0.682503342628479),\n",
       " ('ok', 0.6657984256744385),\n",
       " ('okay', 0.6218578219413757),\n",
       " ('dumb', 0.6177088618278503)]"
      ]
     },
     "execution_count": 13,
     "metadata": {},
     "output_type": "execute_result"
    }
   ],
   "source": [
    "model.wv.most_similar('bad')"
   ]
  },
  {
   "cell_type": "code",
   "execution_count": 14,
   "id": "fd9cabec",
   "metadata": {},
   "outputs": [
    {
     "data": {
      "text/plain": [
       "[('wonderful', 0.7985163927078247),\n",
       " ('fantastic', 0.7748313546180725),\n",
       " ('fine', 0.7294185757637024),\n",
       " ('good', 0.7144103646278381),\n",
       " ('excellent', 0.7015419006347656),\n",
       " ('perfect', 0.6889781355857849),\n",
       " ('brilliant', 0.6808857321739197),\n",
       " ('amazing', 0.6658195853233337),\n",
       " ('nice', 0.6279852986335754),\n",
       " ('terrific', 0.6255877614021301)]"
      ]
     },
     "execution_count": 14,
     "metadata": {},
     "output_type": "execute_result"
    }
   ],
   "source": [
    "model.wv.most_similar('great')"
   ]
  },
  {
   "cell_type": "code",
   "execution_count": 15,
   "id": "82029ab3",
   "metadata": {},
   "outputs": [
    {
     "data": {
      "text/plain": [
       "0.7144104"
      ]
     },
     "execution_count": 15,
     "metadata": {},
     "output_type": "execute_result"
    }
   ],
   "source": [
    "model.wv.similarity(w1='good',w2='great')"
   ]
  },
  {
   "cell_type": "code",
   "execution_count": 16,
   "id": "042a7719",
   "metadata": {},
   "outputs": [
    {
     "data": {
      "text/plain": [
       "0.7107211"
      ]
     },
     "execution_count": 16,
     "metadata": {},
     "output_type": "execute_result"
    }
   ],
   "source": [
    "model.wv.similarity(w1='good',w2='bad')"
   ]
  },
  {
   "cell_type": "code",
   "execution_count": 17,
   "id": "e6a77023",
   "metadata": {},
   "outputs": [
    {
     "data": {
      "text/plain": [
       "0.44700217"
      ]
     },
     "execution_count": 17,
     "metadata": {},
     "output_type": "execute_result"
    }
   ],
   "source": [
    "model.wv.similarity(w1='queen',w2='king')"
   ]
  },
  {
   "cell_type": "code",
   "execution_count": 18,
   "id": "0dae721f",
   "metadata": {},
   "outputs": [
    {
     "name": "stdout",
     "output_type": "stream",
     "text": [
      "tower\n"
     ]
    }
   ],
   "source": [
    "print(model.wv.doesnt_match(['car','rat','dog','horse','tower']))"
   ]
  },
  {
   "cell_type": "markdown",
   "id": "1e0c1d96",
   "metadata": {},
   "source": [
    "  "
   ]
  },
  {
   "cell_type": "markdown",
   "id": "02af5bda",
   "metadata": {},
   "source": [
    "  "
   ]
  },
  {
   "cell_type": "markdown",
   "id": "828c3bce",
   "metadata": {},
   "source": [
    "  "
   ]
  },
  {
   "cell_type": "markdown",
   "id": "0a2b229e",
   "metadata": {},
   "source": [
    "  "
   ]
  },
  {
   "cell_type": "markdown",
   "id": "092e2d68",
   "metadata": {},
   "source": [
    "  "
   ]
  },
  {
   "cell_type": "markdown",
   "id": "96dab730",
   "metadata": {},
   "source": [
    "  "
   ]
  },
  {
   "cell_type": "markdown",
   "id": "8a9d9943",
   "metadata": {},
   "source": [
    "  "
   ]
  },
  {
   "cell_type": "markdown",
   "id": "975af8ff",
   "metadata": {},
   "source": [
    "  "
   ]
  },
  {
   "cell_type": "markdown",
   "id": "6840c3e9",
   "metadata": {},
   "source": [
    "#   <font color = darkblue size =5>* Using Pretrained Word2vec"
   ]
  },
  {
   "cell_type": "code",
   "execution_count": 43,
   "id": "1c369868",
   "metadata": {},
   "outputs": [],
   "source": [
    "from gensim.models import KeyedVectors\n",
    "filename = r'C:\\Users\\DELL\\Documents\\NLP\\GoogleNews-vectors-negative300.bin'\n",
    "model = KeyedVectors.load_word2vec_format(filename, binary=True)"
   ]
  },
  {
   "cell_type": "code",
   "execution_count": 46,
   "id": "b793ead2",
   "metadata": {},
   "outputs": [
    {
     "data": {
      "text/plain": [
       "(300,)"
      ]
     },
     "execution_count": 46,
     "metadata": {},
     "output_type": "execute_result"
    }
   ],
   "source": [
    "model['google'].shape"
   ]
  },
  {
   "cell_type": "code",
   "execution_count": 52,
   "id": "e2c58365",
   "metadata": {},
   "outputs": [],
   "source": [
    "vec = model['king']-model['Queen'] + model['man']"
   ]
  },
  {
   "cell_type": "code",
   "execution_count": 53,
   "id": "4d6fe94d",
   "metadata": {},
   "outputs": [
    {
     "data": {
      "text/plain": [
       "[('man', 0.6426294445991516),\n",
       " ('king', 0.5509207248687744),\n",
       " ('boy', 0.4782737195491791),\n",
       " ('guy', 0.4403860867023468),\n",
       " ('superman', 0.3937893509864807),\n",
       " ('strongman', 0.393498033285141),\n",
       " ('businessman', 0.3858145773410797),\n",
       " ('teenager', 0.38385969400405884),\n",
       " ('dude', 0.38366279006004333),\n",
       " ('patriarch', 0.37569209933280945)]"
      ]
     },
     "execution_count": 53,
     "metadata": {},
     "output_type": "execute_result"
    }
   ],
   "source": [
    "model.most_similar([vec])"
   ]
  },
  {
   "cell_type": "code",
   "execution_count": 54,
   "id": "3df9271d",
   "metadata": {},
   "outputs": [
    {
     "data": {
      "text/plain": [
       "[('men', 0.767493724822998),\n",
       " ('Women', 0.7283449769020081),\n",
       " ('womens', 0.6786180734634399),\n",
       " ('girls', 0.6339040398597717),\n",
       " ('females', 0.6240420341491699),\n",
       " ('mothers', 0.6050933599472046),\n",
       " ('ladies', 0.5865179300308228),\n",
       " ('husbands', 0.5705342292785645),\n",
       " ('transwomen', 0.5697940587997437),\n",
       " ('Men', 0.5693342089653015)]"
      ]
     },
     "execution_count": 54,
     "metadata": {},
     "output_type": "execute_result"
    }
   ],
   "source": [
    "model.most_similar('women')"
   ]
  },
  {
   "cell_type": "code",
   "execution_count": 55,
   "id": "50e067b1",
   "metadata": {},
   "outputs": [
    {
     "data": {
      "text/plain": [
       "[('queens', 0.739944338798523),\n",
       " ('princess', 0.7070532441139221),\n",
       " ('king', 0.6510956883430481),\n",
       " ('monarch', 0.6383602023124695),\n",
       " ('very_pampered_McElhatton', 0.6357026696205139),\n",
       " ('Queen', 0.6163407564163208),\n",
       " ('NYC_anglophiles_aflutter', 0.6060680150985718),\n",
       " ('Queen_Consort', 0.5923796892166138),\n",
       " ('princesses', 0.5908074975013733),\n",
       " ('royal', 0.5637185573577881)]"
      ]
     },
     "execution_count": 55,
     "metadata": {},
     "output_type": "execute_result"
    }
   ],
   "source": [
    "model.most_similar('queen')"
   ]
  },
  {
   "cell_type": "code",
   "execution_count": 56,
   "id": "3f0851b2",
   "metadata": {},
   "outputs": [
    {
     "data": {
      "text/plain": [
       "[('kings', 0.7138045430183411),\n",
       " ('queen', 0.6510956883430481),\n",
       " ('monarch', 0.6413194537162781),\n",
       " ('crown_prince', 0.6204220056533813),\n",
       " ('prince', 0.6159993410110474),\n",
       " ('sultan', 0.5864824056625366),\n",
       " ('ruler', 0.5797567367553711),\n",
       " ('princes', 0.5646552443504333),\n",
       " ('Prince_Paras', 0.5432944297790527),\n",
       " ('throne', 0.5422105193138123)]"
      ]
     },
     "execution_count": 56,
     "metadata": {},
     "output_type": "execute_result"
    }
   ],
   "source": [
    "model.most_similar('king')"
   ]
  },
  {
   "cell_type": "code",
   "execution_count": 57,
   "id": "78034a2e",
   "metadata": {},
   "outputs": [
    {
     "data": {
      "text/plain": [
       "[('Comparing_Apples', 0.5945019125938416),\n",
       " ('apples', 0.5687983632087708),\n",
       " ('Honeycrisps', 0.5612083673477173),\n",
       " ('Macouns', 0.5474743247032166),\n",
       " ('Honey_Crisp', 0.5390979647636414),\n",
       " ('apple', 0.5345843434333801),\n",
       " ('Potatoes', 0.5219122767448425),\n",
       " ('Cortlands', 0.5186415314674377),\n",
       " ('apple_varieties', 0.513511598110199),\n",
       " ('Cauliflower', 0.50886070728302)]"
      ]
     },
     "execution_count": 57,
     "metadata": {},
     "output_type": "execute_result"
    }
   ],
   "source": [
    "model.most_similar('Apples')"
   ]
  },
  {
   "cell_type": "code",
   "execution_count": 78,
   "id": "a07d3aa0",
   "metadata": {},
   "outputs": [
    {
     "ename": "AttributeError",
     "evalue": "'Word2Vec' object has no attribute 'get_normed_vectors'",
     "output_type": "error",
     "traceback": [
      "\u001b[1;31m---------------------------------------------------------------------------\u001b[0m",
      "\u001b[1;31mAttributeError\u001b[0m                            Traceback (most recent call last)",
      "\u001b[1;32m~\\AppData\\Local\\Temp/ipykernel_7032/3582142424.py\u001b[0m in \u001b[0;36m<module>\u001b[1;34m\u001b[0m\n\u001b[1;32m----> 1\u001b[1;33m \u001b[0mmodel\u001b[0m\u001b[1;33m.\u001b[0m\u001b[0mget_normed_vectors\u001b[0m\u001b[1;33m\u001b[0m\u001b[1;33m\u001b[0m\u001b[0m\n\u001b[0m",
      "\u001b[1;31mAttributeError\u001b[0m: 'Word2Vec' object has no attribute 'get_normed_vectors'"
     ]
    }
   ],
   "source": [
    "model.get_normed_vectors()"
   ]
  },
  {
   "cell_type": "markdown",
   "id": "89e8edaf",
   "metadata": {},
   "source": [
    "#   <font color = darkblue size =5> How to use PCA for dimensionality reduction?"
   ]
  },
  {
   "cell_type": "code",
   "execution_count": 59,
   "id": "e5e927d8",
   "metadata": {},
   "outputs": [],
   "source": [
    "from sklearn.decomposition import PCA"
   ]
  },
  {
   "cell_type": "code",
   "execution_count": 65,
   "id": "d1d4becf",
   "metadata": {},
   "outputs": [
    {
     "ename": "MemoryError",
     "evalue": "Unable to allocate 3.35 GiB for an array with shape (3000000, 300) and data type float32",
     "output_type": "error",
     "traceback": [
      "\u001b[1;31m---------------------------------------------------------------------------\u001b[0m",
      "\u001b[1;31mMemoryError\u001b[0m                               Traceback (most recent call last)",
      "\u001b[1;32m~\\AppData\\Local\\Temp/ipykernel_7032/1862425064.py\u001b[0m in \u001b[0;36m<module>\u001b[1;34m\u001b[0m\n\u001b[0;32m      1\u001b[0m \u001b[0mpca\u001b[0m \u001b[1;33m=\u001b[0m \u001b[0mPCA\u001b[0m\u001b[1;33m(\u001b[0m\u001b[0mn_components\u001b[0m\u001b[1;33m=\u001b[0m\u001b[1;36m5\u001b[0m\u001b[1;33m)\u001b[0m\u001b[1;33m\u001b[0m\u001b[1;33m\u001b[0m\u001b[0m\n\u001b[1;32m----> 2\u001b[1;33m \u001b[0mx\u001b[0m \u001b[1;33m=\u001b[0m \u001b[0mpca\u001b[0m\u001b[1;33m.\u001b[0m\u001b[0mfit_transform\u001b[0m\u001b[1;33m(\u001b[0m\u001b[0mmodel\u001b[0m\u001b[1;33m.\u001b[0m\u001b[0mget_normed_vectors\u001b[0m\u001b[1;33m(\u001b[0m\u001b[1;33m)\u001b[0m\u001b[1;33m)\u001b[0m\u001b[1;33m\u001b[0m\u001b[1;33m\u001b[0m\u001b[0m\n\u001b[0m",
      "\u001b[1;32m~\\anaconda3\\lib\\site-packages\\gensim\\models\\keyedvectors.py\u001b[0m in \u001b[0;36mget_normed_vectors\u001b[1;34m(self)\u001b[0m\n\u001b[0;32m    622\u001b[0m         \"\"\"\n\u001b[0;32m    623\u001b[0m         \u001b[0mself\u001b[0m\u001b[1;33m.\u001b[0m\u001b[0mfill_norms\u001b[0m\u001b[1;33m(\u001b[0m\u001b[1;33m)\u001b[0m\u001b[1;33m\u001b[0m\u001b[1;33m\u001b[0m\u001b[0m\n\u001b[1;32m--> 624\u001b[1;33m         \u001b[1;32mreturn\u001b[0m \u001b[0mself\u001b[0m\u001b[1;33m.\u001b[0m\u001b[0mvectors\u001b[0m \u001b[1;33m/\u001b[0m \u001b[0mself\u001b[0m\u001b[1;33m.\u001b[0m\u001b[0mnorms\u001b[0m\u001b[1;33m[\u001b[0m\u001b[1;33m...\u001b[0m\u001b[1;33m,\u001b[0m \u001b[0mnp\u001b[0m\u001b[1;33m.\u001b[0m\u001b[0mnewaxis\u001b[0m\u001b[1;33m]\u001b[0m\u001b[1;33m\u001b[0m\u001b[1;33m\u001b[0m\u001b[0m\n\u001b[0m\u001b[0;32m    625\u001b[0m \u001b[1;33m\u001b[0m\u001b[0m\n\u001b[0;32m    626\u001b[0m     \u001b[1;32mdef\u001b[0m \u001b[0mfill_norms\u001b[0m\u001b[1;33m(\u001b[0m\u001b[0mself\u001b[0m\u001b[1;33m,\u001b[0m \u001b[0mforce\u001b[0m\u001b[1;33m=\u001b[0m\u001b[1;32mFalse\u001b[0m\u001b[1;33m)\u001b[0m\u001b[1;33m:\u001b[0m\u001b[1;33m\u001b[0m\u001b[1;33m\u001b[0m\u001b[0m\n",
      "\u001b[1;31mMemoryError\u001b[0m: Unable to allocate 3.35 GiB for an array with shape (3000000, 300) and data type float32"
     ]
    }
   ],
   "source": [
    "pca = PCA(n_components=5)\n",
    "x = pca.fit_transform(model.get_normed_vectors())"
   ]
  },
  {
   "cell_type": "code",
   "execution_count": null,
   "id": "23296a60",
   "metadata": {},
   "outputs": [],
   "source": [
    "x.shape"
   ]
  },
  {
   "cell_type": "code",
   "execution_count": null,
   "id": "6aeb4fa8",
   "metadata": {},
   "outputs": [],
   "source": []
  },
  {
   "cell_type": "code",
   "execution_count": null,
   "id": "1f52a60f",
   "metadata": {},
   "outputs": [],
   "source": []
  },
  {
   "cell_type": "code",
   "execution_count": null,
   "id": "a03305e6",
   "metadata": {},
   "outputs": [],
   "source": []
  },
  {
   "cell_type": "code",
   "execution_count": 52,
   "id": "b73001cf",
   "metadata": {},
   "outputs": [],
   "source": [
    "import gensim.downloader as api"
   ]
  },
  {
   "cell_type": "code",
   "execution_count": 53,
   "id": "756eca58",
   "metadata": {
    "collapsed": true
   },
   "outputs": [
    {
     "name": "stdout",
     "output_type": "stream",
     "text": [
      "[==================================================] 100.0% 1662.8/1662.8MB downloaded\n"
     ]
    },
    {
     "ename": "PermissionError",
     "evalue": "[WinError 5] Access is denied: 'C:\\\\Users\\\\DELL/gensim-data\\\\word2vec-google-news-300_tmp' -> 'C:\\\\Users\\\\DELL/gensim-data\\\\word2vec-google-news-300'",
     "output_type": "error",
     "traceback": [
      "\u001b[1;31m---------------------------------------------------------------------------\u001b[0m",
      "\u001b[1;31mPermissionError\u001b[0m                           Traceback (most recent call last)",
      "\u001b[1;32m~\\AppData\\Local\\Temp/ipykernel_6072/3255890962.py\u001b[0m in \u001b[0;36m<module>\u001b[1;34m\u001b[0m\n\u001b[1;32m----> 1\u001b[1;33m \u001b[0mwv\u001b[0m \u001b[1;33m=\u001b[0m \u001b[0mapi\u001b[0m\u001b[1;33m.\u001b[0m\u001b[0mload\u001b[0m\u001b[1;33m(\u001b[0m\u001b[1;34m'word2vec-google-news-300'\u001b[0m\u001b[1;33m)\u001b[0m\u001b[1;33m\u001b[0m\u001b[1;33m\u001b[0m\u001b[0m\n\u001b[0m",
      "\u001b[1;32m~\\anaconda3\\lib\\site-packages\\gensim\\downloader.py\u001b[0m in \u001b[0;36mload\u001b[1;34m(name, return_path)\u001b[0m\n\u001b[0;32m    494\u001b[0m     \u001b[0mpath\u001b[0m \u001b[1;33m=\u001b[0m \u001b[0mos\u001b[0m\u001b[1;33m.\u001b[0m\u001b[0mpath\u001b[0m\u001b[1;33m.\u001b[0m\u001b[0mjoin\u001b[0m\u001b[1;33m(\u001b[0m\u001b[0mfolder_dir\u001b[0m\u001b[1;33m,\u001b[0m \u001b[0mfile_name\u001b[0m\u001b[1;33m)\u001b[0m\u001b[1;33m\u001b[0m\u001b[1;33m\u001b[0m\u001b[0m\n\u001b[0;32m    495\u001b[0m     \u001b[1;32mif\u001b[0m \u001b[1;32mnot\u001b[0m \u001b[0mos\u001b[0m\u001b[1;33m.\u001b[0m\u001b[0mpath\u001b[0m\u001b[1;33m.\u001b[0m\u001b[0mexists\u001b[0m\u001b[1;33m(\u001b[0m\u001b[0mfolder_dir\u001b[0m\u001b[1;33m)\u001b[0m\u001b[1;33m:\u001b[0m\u001b[1;33m\u001b[0m\u001b[1;33m\u001b[0m\u001b[0m\n\u001b[1;32m--> 496\u001b[1;33m         \u001b[0m_download\u001b[0m\u001b[1;33m(\u001b[0m\u001b[0mname\u001b[0m\u001b[1;33m)\u001b[0m\u001b[1;33m\u001b[0m\u001b[1;33m\u001b[0m\u001b[0m\n\u001b[0m\u001b[0;32m    497\u001b[0m \u001b[1;33m\u001b[0m\u001b[0m\n\u001b[0;32m    498\u001b[0m     \u001b[1;32mif\u001b[0m \u001b[0mreturn_path\u001b[0m\u001b[1;33m:\u001b[0m\u001b[1;33m\u001b[0m\u001b[1;33m\u001b[0m\u001b[0m\n",
      "\u001b[1;32m~\\anaconda3\\lib\\site-packages\\gensim\\downloader.py\u001b[0m in \u001b[0;36m_download\u001b[1;34m(name)\u001b[0m\n\u001b[0;32m    407\u001b[0m \u001b[1;33m\u001b[0m\u001b[0m\n\u001b[0;32m    408\u001b[0m     \u001b[0mshutil\u001b[0m\u001b[1;33m.\u001b[0m\u001b[0mmove\u001b[0m\u001b[1;33m(\u001b[0m\u001b[0mtmp_dir\u001b[0m\u001b[1;33m,\u001b[0m \u001b[0mdata_folder_dir_tmp\u001b[0m\u001b[1;33m)\u001b[0m\u001b[1;33m\u001b[0m\u001b[1;33m\u001b[0m\u001b[0m\n\u001b[1;32m--> 409\u001b[1;33m     \u001b[0mos\u001b[0m\u001b[1;33m.\u001b[0m\u001b[0mrename\u001b[0m\u001b[1;33m(\u001b[0m\u001b[0mdata_folder_dir_tmp\u001b[0m\u001b[1;33m,\u001b[0m \u001b[0mdata_folder_dir\u001b[0m\u001b[1;33m)\u001b[0m\u001b[1;33m\u001b[0m\u001b[1;33m\u001b[0m\u001b[0m\n\u001b[0m\u001b[0;32m    410\u001b[0m \u001b[1;33m\u001b[0m\u001b[0m\n\u001b[0;32m    411\u001b[0m \u001b[1;33m\u001b[0m\u001b[0m\n",
      "\u001b[1;31mPermissionError\u001b[0m: [WinError 5] Access is denied: 'C:\\\\Users\\\\DELL/gensim-data\\\\word2vec-google-news-300_tmp' -> 'C:\\\\Users\\\\DELL/gensim-data\\\\word2vec-google-news-300'"
     ]
    }
   ],
   "source": [
    "wv = api.load('word2vec-google-news-300')"
   ]
  },
  {
   "cell_type": "code",
   "execution_count": null,
   "id": "e8e6cf85",
   "metadata": {},
   "outputs": [],
   "source": [
    "wv.get_vector('good')"
   ]
  },
  {
   "cell_type": "code",
   "execution_count": null,
   "id": "b23a67a9",
   "metadata": {},
   "outputs": [],
   "source": [
    "len(wv.get_vector('good'))"
   ]
  },
  {
   "cell_type": "code",
   "execution_count": null,
   "id": "3a132558",
   "metadata": {},
   "outputs": [],
   "source": [
    "vocab_size =max_words +1\n",
    "embedding_dim= len(wv.get_vector('good'))\n",
    "embedding_matrix = np.zeros((vocab_size,embedding_dim))\n",
    "count =0\n",
    "for word in word_list:\n",
    "    count+ =1\n",
    "    if count = vocab_size :\n",
    "        break\n",
    "    \n",
    "    try :\n",
    "        embedding_vector = wv.get_vector(word)\n",
    "        embedding_matrix"
   ]
  },
  {
   "cell_type": "code",
   "execution_count": null,
   "id": "e84ae613",
   "metadata": {},
   "outputs": [],
   "source": []
  }
 ],
 "metadata": {
  "kernelspec": {
   "display_name": "Python 3 (ipykernel)",
   "language": "python",
   "name": "python3"
  },
  "language_info": {
   "codemirror_mode": {
    "name": "ipython",
    "version": 3
   },
   "file_extension": ".py",
   "mimetype": "text/x-python",
   "name": "python",
   "nbconvert_exporter": "python",
   "pygments_lexer": "ipython3",
   "version": "3.9.7"
  }
 },
 "nbformat": 4,
 "nbformat_minor": 5
}
