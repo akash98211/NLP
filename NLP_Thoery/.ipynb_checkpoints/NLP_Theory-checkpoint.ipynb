{
 "cells": [
  {
   "cell_type": "markdown",
   "metadata": {
    "id": "fb0874c6"
   },
   "source": [
    "#   <font color = darkblue size =6.5><center> NLP : Natural Language Processing"
   ]
  },
  {
   "cell_type": "markdown",
   "metadata": {
    "id": "d1302bfb"
   },
   "source": [
    "##  Popular Application Of NLP "
   ]
  },
  {
   "cell_type": "markdown",
   "metadata": {
    "id": "e4a6c126"
   },
   "source": [
    "<font color = darkblue size =4>1. Sentiment Analysis \n",
    " ___\n",
    "<font color = darkblue size =4>2. Topic Identification\n",
    " ___\n",
    "<font color = darkblue size =4>3. Named Entity Recognition \n",
    " ___\n",
    "<font color = darkblue size =4>4. Translation\n",
    " ___\n",
    "<font color = darkblue size =4>5. Chatbots \n",
    " ___\n",
    "<font color = darkblue size =4>6. Voice Assistant \n",
    " ___\n",
    "<font color = darkblue size =4>7. Text Generation "
   ]
  },
  {
   "cell_type": "markdown",
   "metadata": {
    "id": "58a6b146"
   },
   "source": [
    "## Libraries for working in NLP"
   ]
  },
  {
   "cell_type": "markdown",
   "metadata": {
    "id": "d9e9b537"
   },
   "source": [
    "<font color = darkblue size =3>1.1. NLTK - Natural Language Tool Kit\n",
    "___\n",
    "<font color = darkblue size =3>1.2. polyglot \n",
    "___\n",
    "<font color = darkblue size =3>1.3. Gensim \n",
    "___\n",
    "<font color = darkblue size =3>1.4. Spacy \n",
    "___\n",
    "<font color = darkblue size =3>1.5. Rasa "
   ]
  },
  {
   "cell_type": "markdown",
   "metadata": {
    "id": "e8afc7da"
   },
   "source": [
    "## Text Preprocessing Techniques "
   ]
  },
  {
   "cell_type": "markdown",
   "metadata": {
    "id": "3b140a5d"
   },
   "source": [
    "<font color = darkblue size =3>1.1.Removing punctuations \n",
    "___\n",
    "<font color = darkblue size =3>1.2. Lowercase\n",
    "___\n",
    "<font color = darkblue size =3>1.3. Stopwords\n",
    "___\n",
    "<font color = darkblue size =3>1.4. Lemmatization \n",
    "___\n",
    "<font color = darkblue size =3>1.5. Stemming"
   ]
  },
  {
   "cell_type": "markdown",
   "metadata": {
    "id": "2d836b1c"
   },
   "source": [
    "  "
   ]
  },
  {
   "cell_type": "markdown",
   "metadata": {
    "id": "2376cf56"
   },
   "source": [
    "  "
   ]
  },
  {
   "cell_type": "markdown",
   "metadata": {
    "id": "72ece429"
   },
   "source": [
    "  "
   ]
  },
  {
   "cell_type": "markdown",
   "metadata": {
    "id": "267808a3"
   },
   "source": [
    "  "
   ]
  },
  {
   "cell_type": "markdown",
   "metadata": {
    "id": "5b51f63d"
   },
   "source": [
    "  "
   ]
  },
  {
   "cell_type": "markdown",
   "metadata": {
    "id": "7495bcd9"
   },
   "source": [
    "# Popular ways to convert Text to numbers for NLP \n"
   ]
  },
  {
   "cell_type": "markdown",
   "metadata": {
    "id": "66950afc"
   },
   "source": [
    "<font color = darkblue size =3>1. CountVectorizer\n",
    "___\n",
    "<font color = darkblue size =3>2. TF-IDF Vectorizer\n",
    "___\n",
    "<font color = darkblue size =3>3. Word Embeddings\n",
    "___\n",
    "<font color = darkblue size =3>4. Word2vec "
   ]
  },
  {
   "cell_type": "markdown",
   "metadata": {
    "id": "2b77cda9"
   },
   "source": [
    "## Count_Vectorizer \n"
   ]
  },
  {
   "cell_type": "markdown",
   "metadata": {
    "id": "b7feadca"
   },
   "source": [
    "sentence1 = 'I am learning NLP'\n",
    "sentence2 = 'Python and Machine learning are important for learning NLP abc'\n",
    "sentence3 = 'Data Science is combination of AI and Machine learning '\n",
    "\n",
    "            I   am   learning   NLP   Python   and   are   Machine   important   for   Data   Science   is   combination  AI oov\n",
    "\n",
    "    \n",
    "sentence1   1   1     1           1    0       0       0      0        0           0     0        0       0       0        0  +1\n",
    "sentence2   0   0     2           1    1       1       1      1        1           1     0        0       0       0        0  +1\n",
    "\n",
    "    `"
   ]
  },
  {
   "cell_type": "markdown",
   "metadata": {
    "id": "b9277b51"
   },
   "source": [
    "   "
   ]
  },
  {
   "cell_type": "markdown",
   "metadata": {
    "id": "f1ddf257"
   },
   "source": [
    "   "
   ]
  },
  {
   "cell_type": "markdown",
   "metadata": {
    "id": "7b79e647"
   },
   "source": [
    "   "
   ]
  },
  {
   "cell_type": "markdown",
   "metadata": {
    "id": "d70f2e09"
   },
   "source": [
    "## TF-IDF_Vectorizer"
   ]
  },
  {
   "cell_type": "markdown",
   "metadata": {
    "id": "b7aa3095"
   },
   "source": [
    "### TF - Term Frequency \n",
    "It's function of frequency of term t appearing in documnet d ;denoted as tf(t,d)\n"
   ]
  },
  {
   "cell_type": "markdown",
   "metadata": {
    "id": "42b87b73"
   },
   "source": [
    "            Frequncy of t appearing in documnet d\n",
    "tf(t,d)  = ---------------------------------------       \n",
    "            Total Number of terms in  documnet d "
   ]
  },
  {
   "cell_type": "markdown",
   "metadata": {
    "id": "4f28f38b"
   },
   "source": [
    "### IDF - Inverse Documents Frequency \n",
    "It's Inverse of frequency of Documents containing the desired term out of all the documents and normalized using log"
   ]
  },
  {
   "cell_type": "markdown",
   "metadata": {
    "id": "261b92e6"
   },
   "source": [
    "                        Number of documents d containing term t\n",
    "Document Frequency  = ---------------------------------------       \n",
    "                        Total Number of documents N\n",
    "idf(t,D) = log(1/Document Frequency)"
   ]
  },
  {
   "cell_type": "markdown",
   "metadata": {
    "id": "b40940ae"
   },
   "source": [
    "## TF-IDF = TF * IDF "
   ]
  },
  {
   "cell_type": "markdown",
   "metadata": {
    "id": "48d3aa6a"
   },
   "source": [
    "tf(t,d) * idf(t,D)"
   ]
  },
  {
   "cell_type": "code",
   "execution_count": null,
   "metadata": {
    "id": "57e7cb3c"
   },
   "outputs": [],
   "source": [
    "                        Acting.... directing....fabulous....good...great...stunts....zenith...movie---simply\n",
    "* The movie was great,   0          0             0           0     \n",
    "  simply great                                                                               1/6*log(3/2)\n",
    "    \n",
    "* Acting directing \n",
    "  screenplay none of\n",
    "  them were good\n",
    "\n",
    "* Movie was fabulous."
   ]
  },
  {
   "cell_type": "markdown",
   "metadata": {
    "id": "09282ac6"
   },
   "source": [
    "  "
   ]
  },
  {
   "cell_type": "markdown",
   "metadata": {
    "id": "f171e8ef"
   },
   "source": [
    "  "
   ]
  },
  {
   "cell_type": "markdown",
   "metadata": {
    "id": "86befb6a"
   },
   "source": [
    "  "
   ]
  },
  {
   "cell_type": "markdown",
   "metadata": {
    "id": "f28cce51"
   },
   "source": [
    "  "
   ]
  },
  {
   "cell_type": "markdown",
   "metadata": {
    "id": "6cd6e91b"
   },
   "source": [
    "# <font color = darkblue size =5> Drawbacks of Count Vectorizer and TFIDF Vectorizer"
   ]
  },
  {
   "cell_type": "markdown",
   "metadata": {
    "id": "eebff590"
   },
   "source": [
    "# <font color = darkblue size =3> * we have large number of dimensions (as many as the vocabulary size)\n",
    "# <font color = darkblue size =3> * The sequence of words in a sentence is not represented"
   ]
  },
  {
   "cell_type": "markdown",
   "metadata": {
    "id": "ae7fc216"
   },
   "source": [
    "  "
   ]
  },
  {
   "cell_type": "markdown",
   "metadata": {
    "id": "2ae8a576"
   },
   "source": [
    "  "
   ]
  },
  {
   "cell_type": "markdown",
   "metadata": {
    "id": "0350081b"
   },
   "source": [
    "  "
   ]
  },
  {
   "cell_type": "markdown",
   "metadata": {
    "id": "32ce2fd1"
   },
   "source": [
    "  "
   ]
  },
  {
   "cell_type": "markdown",
   "metadata": {
    "id": "0111db19"
   },
   "source": [
    "  "
   ]
  },
  {
   "cell_type": "markdown",
   "metadata": {
    "id": "a217c974"
   },
   "source": [
    "  "
   ]
  },
  {
   "cell_type": "markdown",
   "metadata": {
    "id": "22290bb4"
   },
   "source": [
    "  "
   ]
  },
  {
   "cell_type": "markdown",
   "metadata": {
    "id": "2c4fe742"
   },
   "source": [
    "  "
   ]
  },
  {
   "cell_type": "markdown",
   "metadata": {
    "id": "8d996896"
   },
   "source": [
    "# <font color = darkblue size =5> Popular Pretrained Embeddings "
   ]
  },
  {
   "cell_type": "markdown",
   "metadata": {
    "id": "b46e4e3d"
   },
   "source": [
    "<font color = darkblue size =3>1.word2vec : https://code.google.com/archive/p/word2vec/\n",
    "___\n",
    "<font color = darkblue size =3>2.Glove  : https://nlp.stanford.edu/projects/glove/\n",
    "___\n",
    "<font color = darkblue size =3>3.Fasttext : https://fasttext.cc//"
   ]
  },
  {
   "cell_type": "markdown",
   "metadata": {
    "id": "379fd57e"
   },
   "source": [
    "# <font color = darkblue size =4> What is word Embedding?"
   ]
  },
  {
   "cell_type": "markdown",
   "metadata": {
    "id": "210b0304"
   },
   "source": [
    "                                   WORDS\n",
    "Attributes             King     Queen       Apple       Man      Woman\n",
    "\n",
    "Gender                 -0.99     0.98       0.001      -0.99      0.98\n",
    "\n",
    "Taste                  0.001    -0.001      0.97        0.002     0.001\n",
    "\n",
    "Royal                  0.98      0.99       0.001       0.001     0.002"
   ]
  },
  {
   "cell_type": "code",
   "execution_count": null,
   "metadata": {
    "id": "ae3d1f3d"
   },
   "outputs": [],
   "source": [
    "king-Queen + Man  = Woman\n",
    "(-0.99+0+0.98)-(0.98+0+0.99)+(-0.99+0+0) = (0.98,0.01,0.01)"
   ]
  },
  {
   "cell_type": "markdown",
   "metadata": {
    "id": "1ec8ea6d"
   },
   "source": [
    "# <font color = darkblue size =4> Word2Vec"
   ]
  },
  {
   "cell_type": "markdown",
   "metadata": {
    "id": "287b9d00"
   },
   "source": [
    "* Developed By Tomas Mikolov\n",
    "* Uses either COntinous Bag Of Words(CBow) or Skip-gram approach\n",
    "* word2vec accessed through gensim or spacy"
   ]
  },
  {
   "cell_type": "markdown",
   "metadata": {
    "id": "9dd6a247"
   },
   "source": [
    "# <font color = darkblue size =3> CBow"
   ]
  },
  {
   "cell_type": "code",
   "execution_count": null,
   "metadata": {
    "id": "d10a5175"
   },
   "outputs": [],
   "source": [
    "\"Models Aims to predict the present target word based on the surrounding word\"\n",
    "\n",
    "example : Apples are Round and sweet the surrounding word\n",
    "    \n",
    "    Input                       projection                     output\n",
    "    \n",
    "    Apples                      --------------\n",
    "                                -                              Round\n",
    "    are                         -\n",
    "                  \n",
    "    and\n",
    "    \n",
    "    sweet"
   ]
  },
  {
   "cell_type": "markdown",
   "metadata": {
    "id": "070e15f3"
   },
   "source": [
    "  "
   ]
  },
  {
   "cell_type": "markdown",
   "metadata": {
    "id": "9a31532a"
   },
   "source": [
    "  "
   ]
  },
  {
   "cell_type": "markdown",
   "metadata": {
    "id": "bad6af53"
   },
   "source": [
    "  "
   ]
  },
  {
   "cell_type": "markdown",
   "metadata": {
    "id": "c17cc60a"
   },
   "source": [
    "  "
   ]
  },
  {
   "cell_type": "markdown",
   "metadata": {
    "id": "f2757418"
   },
   "source": [
    "  "
   ]
  },
  {
   "cell_type": "markdown",
   "metadata": {
    "id": "348f51d6"
   },
   "source": [
    "  "
   ]
  },
  {
   "cell_type": "markdown",
   "metadata": {
    "id": "564adc94"
   },
   "source": [
    "  "
   ]
  },
  {
   "cell_type": "markdown",
   "metadata": {
    "id": "97d1a368"
   },
   "source": [
    "# <font color = darkblue size =5> Word Similarity and Differences "
   ]
  },
  {
   "cell_type": "markdown",
   "metadata": {
    "id": "4f31f9a7"
   },
   "source": [
    "# <font color = darkblue size =3> * Cosine Distance/Similarity\n",
    "# <font color = darkblue size =3> * between -1 and +1\n"
   ]
  },
  {
   "cell_type": "markdown",
   "metadata": {
    "id": "7524a36e"
   },
   "source": [
    "                 A  . B\n",
    "similarity =   --------------\n",
    "                |A|  * |B|"
   ]
  },
  {
   "cell_type": "markdown",
   "metadata": {
    "id": "49e056f6"
   },
   "source": [
    "  "
   ]
  },
  {
   "cell_type": "markdown",
   "metadata": {
    "id": "4e88d554"
   },
   "source": [
    "  "
   ]
  },
  {
   "cell_type": "markdown",
   "metadata": {
    "id": "9eabc558"
   },
   "source": [
    "  "
   ]
  },
  {
   "cell_type": "markdown",
   "metadata": {
    "id": "7174def1"
   },
   "source": [
    "  "
   ]
  },
  {
   "cell_type": "markdown",
   "metadata": {
    "id": "952a3636"
   },
   "source": [
    "  "
   ]
  },
  {
   "cell_type": "markdown",
   "metadata": {
    "id": "a85c6985"
   },
   "source": [
    "  "
   ]
  },
  {
   "cell_type": "markdown",
   "metadata": {
    "id": "b7b4d679"
   },
   "source": [
    "  "
   ]
  },
  {
   "cell_type": "markdown",
   "metadata": {
    "id": "c53e002b"
   },
   "source": [
    "# <font color = darkblue size =5> N-Grams "
   ]
  },
  {
   "cell_type": "markdown",
   "metadata": {
    "id": "0204062d"
   },
   "source": [
    "# <font color = darkblue size =3> * Continous sequences of words\n",
    "   \n",
    "# <font color = darkblue size =3> * Different type of n-gram are useful for different type of application\n",
    "    \n",
    "# <font color = darkblue size =3> * One of usecase keyphrase extraction"
   ]
  },
  {
   "cell_type": "markdown",
   "metadata": {
    "id": "8350f948"
   },
   "source": [
    "  "
   ]
  },
  {
   "cell_type": "markdown",
   "metadata": {
    "id": "4d6752fd"
   },
   "source": [
    "  "
   ]
  },
  {
   "cell_type": "markdown",
   "metadata": {
    "id": "13bec50c"
   },
   "source": [
    "  "
   ]
  },
  {
   "cell_type": "markdown",
   "metadata": {
    "id": "57145399"
   },
   "source": [
    "  "
   ]
  },
  {
   "cell_type": "markdown",
   "metadata": {
    "id": "fb645bcd"
   },
   "source": [
    "  "
   ]
  },
  {
   "cell_type": "markdown",
   "metadata": {
    "id": "ff5989b6"
   },
   "source": [
    "  "
   ]
  },
  {
   "cell_type": "markdown",
   "metadata": {
    "id": "185800a8"
   },
   "source": [
    "  "
   ]
  },
  {
   "cell_type": "markdown",
   "metadata": {
    "id": "0423c75b"
   },
   "source": [
    "  "
   ]
  },
  {
   "cell_type": "markdown",
   "metadata": {
    "id": "14f47465"
   },
   "source": [
    "#   <font color = darkblue size =6.5> POS-Tagging  "
   ]
  },
  {
   "cell_type": "markdown",
   "metadata": {
    "id": "6a004ccd"
   },
   "source": [
    "* Process to give tags to the tokens\n",
    "\n",
    "* used mainly in Named Entity Recognition\n",
    "\n",
    "* Sentiment Analysis\n",
    "\n",
    "Example :\n",
    "\n",
    "Input = 'I left the process' \n",
    "output = [('I','PRON'),('left','VERB'),('the','DET'),('preocess','NOUN')]\n",
    "\n",
    "\n",
    "Tags :\n",
    "\n",
    "\n",
    " JJ : Adjective Tag\n",
    " JJR : adjective comparative 'bigger'\n",
    " JJS : adjective superlative 'biggest'\n",
    " NN : Noun singular 'desk'\n",
    " NNS : Noun plural desks\n",
    " NNP : proper noun singular\n",
    " NNPA : proper noun plural 'Americans'\n",
    " PRP : personal pronoun I,he,she\n",
    " RB : adverb very,silently\n",
    " VB : verb base form\n",
    " VBD verb past tense \n",
    " \n",
    " \n",
    " \n",
    " \n",
    " \n",
    "\n",
    "\n",
    "\n",
    "    "
   ]
  },
  {
   "cell_type": "markdown",
   "metadata": {
    "id": "71d8fd28"
   },
   "source": [
    "#   <font color = darkblue size =6.5> How POS-Tagging algorithm works ?\n",
    "*  Rule based Pos-Tagging\n",
    "* Stochastic Pos-Tagging \n"
   ]
  },
  {
   "cell_type": "code",
   "execution_count": null,
   "metadata": {
    "id": "eb2d870f"
   },
   "outputs": [],
   "source": [
    "1. Rule Based POS-Tagging\n",
    "-1000 rules \n",
    "\n",
    "Input---->create dictionary------> Apply rules\n",
    "\n",
    "words     {words:tags}            [word:best_suitable_tag]\n",
    "\n",
    "tagset\n"
   ]
  },
  {
   "cell_type": "code",
   "execution_count": null,
   "metadata": {
    "id": "97688e98"
   },
   "outputs": [],
   "source": [
    "2.stocastic POS Tagging\n",
    "\n",
    "\n",
    "check previous tags for a particular word\n",
    "check tag sequence \n",
    "\n",
    "example :check some previous experience\n",
    "    the velocity\n",
    "    "
   ]
  }
 ],
 "metadata": {
  "colab": {
   "name": "NLP_Theory.ipynb",
   "provenance": []
  },
  "kernelspec": {
   "display_name": "Python 3",
   "language": "python",
   "name": "python3"
  },
  "language_info": {
   "codemirror_mode": {
    "name": "ipython",
    "version": 3
   },
   "file_extension": ".py",
   "mimetype": "text/x-python",
   "name": "python",
   "nbconvert_exporter": "python",
   "pygments_lexer": "ipython3",
   "version": "3.7.3"
  }
 },
 "nbformat": 4,
 "nbformat_minor": 5
}
